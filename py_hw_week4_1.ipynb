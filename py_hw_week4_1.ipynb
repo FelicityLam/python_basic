{
 "cells": [
  {
   "cell_type": "code",
   "execution_count": 9,
   "id": "0aef5732",
   "metadata": {},
   "outputs": [
    {
     "name": "stdout",
     "output_type": "stream",
     "text": [
      "Input: m = 3, n = 2\n",
      "Output: 3\n"
     ]
    }
   ],
   "source": [
    "def maximum_possible_path(m: int, n: int):\n",
    "    \n",
    "    dp = [[0] * n for _ in range(m)]\n",
    "    \n",
    "    for i in range(m):\n",
    "        for j in range(n):\n",
    "            if i == 0 or j == 0:\n",
    "                dp[i][j] = 1\n",
    "            else:\n",
    "                dp[i][j] = dp[i-1][j] + dp[i][j-1]\n",
    "    \n",
    "    return dp[-1][-1]\n",
    "\n",
    "\n",
    "m = 3\n",
    "n = 2\n",
    "print(f\"Input: m = {m}, n = {n}\")\n",
    "print(f\"Output: {maximum_possible_path(3, 2)}\")"
   ]
  }
 ],
 "metadata": {
  "kernelspec": {
   "display_name": "Python 3 (ipykernel)",
   "language": "python",
   "name": "python3"
  },
  "language_info": {
   "codemirror_mode": {
    "name": "ipython",
    "version": 3
   },
   "file_extension": ".py",
   "mimetype": "text/x-python",
   "name": "python",
   "nbconvert_exporter": "python",
   "pygments_lexer": "ipython3",
   "version": "3.9.7"
  },
  "varInspector": {
   "cols": {
    "lenName": 16,
    "lenType": 16,
    "lenVar": 40
   },
   "kernels_config": {
    "python": {
     "delete_cmd_postfix": "",
     "delete_cmd_prefix": "del ",
     "library": "var_list.py",
     "varRefreshCmd": "print(var_dic_list())"
    },
    "r": {
     "delete_cmd_postfix": ") ",
     "delete_cmd_prefix": "rm(",
     "library": "var_list.r",
     "varRefreshCmd": "cat(var_dic_list()) "
    }
   },
   "types_to_exclude": [
    "module",
    "function",
    "builtin_function_or_method",
    "instance",
    "_Feature"
   ],
   "window_display": false
  }
 },
 "nbformat": 4,
 "nbformat_minor": 5
}
