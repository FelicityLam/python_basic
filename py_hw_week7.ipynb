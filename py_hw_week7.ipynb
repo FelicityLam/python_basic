{
 "cells": [
  {
   "cell_type": "code",
   "execution_count": 1,
   "id": "1fa28cdc",
   "metadata": {},
   "outputs": [
    {
     "data": {
      "image/png": "[encoded data removed]",
      "text/plain": [
       "<Figure size 432x288 with 1 Axes>"
      ]
     },
     "metadata": {
      "needs_background": "light"
     },
     "output_type": "display_data"
    },
    {
     "data": {
      "text/plain": [
       "(1.8678407605670435, -0.031165026295584406, 0.08355864604225823)"
      ]
     },
     "execution_count": 1,
     "metadata": {},
     "output_type": "execute_result"
    }
   ],
   "source": [
    "import numpy as np\n",
    "import matplotlib.pyplot as plt\n",
    "\n",
    "\n",
    "np.random.seed(0)\n",
    "x = np.linspace(-1, 1, 100)\n",
    "y = 1.5*x*x + 0.2 + 0.2*np.random.randn(100)\n",
    "\n",
    "\n",
    "def gradient_descent(x, y, lr=0.01, epochs=1000):\n",
    "\n",
    "    a, b, c = np.random.randn(3)\n",
    "\n",
    "    for _ in range(epochs):\n",
    "        # Predicted value\n",
    "        y_pred = a*x*x + b*x + c\n",
    "        \n",
    "        # Calculate gradients\n",
    "        grad_a = (-2/len(x)) * np.sum((y - y_pred) * x * x)\n",
    "        grad_b = (-2/len(x)) * np.sum((y - y_pred) * x)\n",
    "        grad_c = (-2/len(x)) * np.sum(y - y_pred)\n",
    "        \n",
    "        # Update parameters\n",
    "        a -= lr * grad_a\n",
    "        b -= lr * grad_b\n",
    "        c -= lr * grad_c\n",
    "        \n",
    "    return a, b, c\n",
    "\n",
    "# Perform gradient descent\n",
    "params = gradient_descent(x, y)\n",
    "\n",
    "# Plot the original points and the fitted curve\n",
    "plt.scatter(x, y, color='blue')\n",
    "plt.plot(x, params[0]*x*x + params[1]*x + params[2], 'r-', lw=3)\n",
    "plt.show()\n",
    "\n",
    "# Output the parameters\n",
    "params"
   ]
  },
  {
   "cell_type": "code",
   "execution_count": null,
   "id": "597efe79",
   "metadata": {},
   "outputs": [],
   "source": []
  }
 ],
 "metadata": {
  "kernelspec": {
   "display_name": "Python 3 (ipykernel)",
   "language": "python",
   "name": "python3"
  },
  "language_info": {
   "codemirror_mode": {
    "name": "ipython",
    "version": 3
   },
   "file_extension": ".py",
   "mimetype": "text/x-python",
   "name": "python",
   "nbconvert_exporter": "python",
   "pygments_lexer": "ipython3",
   "version": "3.9.7"
  },
  "varInspector": {
   "cols": {
    "lenName": 16,
    "lenType": 16,
    "lenVar": 40
   },
   "kernels_config": {
    "python": {
     "delete_cmd_postfix": "",
     "delete_cmd_prefix": "del ",
     "library": "var_list.py",
     "varRefreshCmd": "print(var_dic_list())"
    },
    "r": {
     "delete_cmd_postfix": ") ",
     "delete_cmd_prefix": "rm(",
     "library": "var_list.r",
     "varRefreshCmd": "cat(var_dic_list()) "
    }
   },
   "types_to_exclude": [
    "module",
    "function",
    "builtin_function_or_method",
    "instance",
    "_Feature"
   ],
   "window_display": false
  }
 },
 "nbformat": 4,
 "nbformat_minor": 5
}
