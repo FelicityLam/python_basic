{
 "cells": [
  {
   "cell_type": "markdown",
   "id": "59495756",
   "metadata": {},
   "source": [
    "### Extract the first page of all pdfs in the \"mypdfs \" folder and merge them into one pdf file named \"new.pdf\"."
   ]
  },
  {
   "cell_type": "code",
   "execution_count": 14,
   "id": "93a2af28",
   "metadata": {},
   "outputs": [],
   "source": [
    "import os\n",
    "from PyPDF2 import PdfReader, PdfWriter\n",
    "\n",
    "\n",
    "pdf_dir = 'mypdfs'\n",
    "merged_pdf = PdfWriter()\n",
    "\n",
    "# for each pdf file\n",
    "for pdf_file in os.listdir(pdf_dir):\n",
    "    with open(os.path.join(pdf_dir, pdf_file), 'rb') as file:\n",
    "        pdf_reader = PdfReader(file)\n",
    "        merged_pdf.add_page(pdf_reader.pages[0])\n",
    "\n",
    "# save\n",
    "output_pdf_path = 'new.pdf'\n",
    "with open(output_pdf_path, 'wb') as output_pdf_file:\n",
    "    merged_pdf.write(output_pdf_file)"
   ]
  },
  {
   "cell_type": "code",
   "execution_count": 16,
   "id": "28b649e5",
   "metadata": {},
   "outputs": [
    {
     "ename": "KeyError",
     "evalue": "'trans_result'",
     "output_type": "error",
     "traceback": [
      "\u001b[0;31m---------------------------------------------------------------------------\u001b[0m",
      "\u001b[0;31mKeyError\u001b[0m                                  Traceback (most recent call last)",
      "\u001b[0;32m/var/folders/nh/t1vs5qq91vggxycxpztk3lsh0000gn/T/ipykernel_49290/1310989710.py\u001b[0m in \u001b[0;36m<module>\u001b[0;34m\u001b[0m\n\u001b[1;32m     55\u001b[0m \u001b[0;32mwith\u001b[0m \u001b[0mopen\u001b[0m\u001b[0;34m(\u001b[0m\u001b[0;34m'my_abstract.txt'\u001b[0m\u001b[0;34m,\u001b[0m \u001b[0;34m'w'\u001b[0m\u001b[0;34m,\u001b[0m \u001b[0mencoding\u001b[0m\u001b[0;34m=\u001b[0m\u001b[0;34m'utf-8'\u001b[0m\u001b[0;34m)\u001b[0m \u001b[0;32mas\u001b[0m \u001b[0mfile\u001b[0m\u001b[0;34m:\u001b[0m\u001b[0;34m\u001b[0m\u001b[0;34m\u001b[0m\u001b[0m\n\u001b[1;32m     56\u001b[0m     \u001b[0;32mfor\u001b[0m \u001b[0mabstract\u001b[0m \u001b[0;32min\u001b[0m \u001b[0mabstracts\u001b[0m\u001b[0;34m:\u001b[0m\u001b[0;34m\u001b[0m\u001b[0;34m\u001b[0m\u001b[0m\n\u001b[0;32m---> 57\u001b[0;31m         \u001b[0mtranslated_abstract\u001b[0m \u001b[0;34m=\u001b[0m \u001b[0mtranslate_to_chinese\u001b[0m\u001b[0;34m(\u001b[0m\u001b[0mabstract\u001b[0m\u001b[0;34m,\u001b[0m \u001b[0mAPP_ID\u001b[0m\u001b[0;34m,\u001b[0m \u001b[0mSECRET_KEY\u001b[0m\u001b[0;34m)\u001b[0m\u001b[0;34m\u001b[0m\u001b[0;34m\u001b[0m\u001b[0m\n\u001b[0m\u001b[1;32m     58\u001b[0m         \u001b[0mfile\u001b[0m\u001b[0;34m.\u001b[0m\u001b[0mwrite\u001b[0m\u001b[0;34m(\u001b[0m\u001b[0mtranslated_abstract\u001b[0m \u001b[0;34m+\u001b[0m \u001b[0;34m\"\\n\\n\"\u001b[0m\u001b[0;34m)\u001b[0m\u001b[0;34m\u001b[0m\u001b[0;34m\u001b[0m\u001b[0m\n\u001b[1;32m     59\u001b[0m \u001b[0;34m\u001b[0m\u001b[0m\n",
      "\u001b[0;32m/var/folders/nh/t1vs5qq91vggxycxpztk3lsh0000gn/T/ipykernel_49290/1310989710.py\u001b[0m in \u001b[0;36mtranslate_to_chinese\u001b[0;34m(text, app_id, secret_key)\u001b[0m\n\u001b[1;32m     28\u001b[0m     \u001b[0mheaders\u001b[0m \u001b[0;34m=\u001b[0m \u001b[0;34m{\u001b[0m\u001b[0;34m'Content-Type'\u001b[0m\u001b[0;34m:\u001b[0m \u001b[0;34m'application/x-www-form-urlencoded'\u001b[0m\u001b[0;34m}\u001b[0m\u001b[0;34m\u001b[0m\u001b[0;34m\u001b[0m\u001b[0m\n\u001b[1;32m     29\u001b[0m     \u001b[0mresponse\u001b[0m \u001b[0;34m=\u001b[0m \u001b[0mrequests\u001b[0m\u001b[0;34m.\u001b[0m\u001b[0mpost\u001b[0m\u001b[0;34m(\u001b[0m\u001b[0mendpoint\u001b[0m\u001b[0;34m,\u001b[0m \u001b[0mparams\u001b[0m\u001b[0;34m=\u001b[0m\u001b[0mparams\u001b[0m\u001b[0;34m,\u001b[0m \u001b[0mheaders\u001b[0m\u001b[0;34m=\u001b[0m\u001b[0mheaders\u001b[0m\u001b[0;34m)\u001b[0m\u001b[0;34m\u001b[0m\u001b[0;34m\u001b[0m\u001b[0m\n\u001b[0;32m---> 30\u001b[0;31m     \u001b[0;32mreturn\u001b[0m \u001b[0mresponse\u001b[0m\u001b[0;34m.\u001b[0m\u001b[0mjson\u001b[0m\u001b[0;34m(\u001b[0m\u001b[0;34m)\u001b[0m\u001b[0;34m[\u001b[0m\u001b[0;34m'trans_result'\u001b[0m\u001b[0;34m]\u001b[0m\u001b[0;34m[\u001b[0m\u001b[0;36m0\u001b[0m\u001b[0;34m]\u001b[0m\u001b[0;34m[\u001b[0m\u001b[0;34m'dst'\u001b[0m\u001b[0;34m]\u001b[0m\u001b[0;34m\u001b[0m\u001b[0;34m\u001b[0m\u001b[0m\n\u001b[0m\u001b[1;32m     31\u001b[0m \u001b[0;34m\u001b[0m\u001b[0m\n\u001b[1;32m     32\u001b[0m \u001b[0;32mdef\u001b[0m \u001b[0mscrape_abstracts\u001b[0m\u001b[0;34m(\u001b[0m\u001b[0murl\u001b[0m\u001b[0;34m)\u001b[0m\u001b[0;34m:\u001b[0m\u001b[0;34m\u001b[0m\u001b[0;34m\u001b[0m\u001b[0m\n",
      "\u001b[0;31mKeyError\u001b[0m: 'trans_result'"
     ]
    }
   ],
   "source": [
    "import requests\n",
    "from bs4 import BeautifulSoup\n",
    "from hashlib import md5\n",
    "import random\n",
    "\n",
    "# Baidu Translation API\n",
    "APP_ID = 'FelicityLam11' \n",
    "SECRET_KEY = 'Linbeibei123!'\n",
    "\n",
    "def make_md5(s, encoding='utf-8'):\n",
    "    return md5(s.encode(encoding)).hexdigest()\n",
    "\n",
    "def translate_to_chinese(text, app_id, secret_key):\n",
    "    \"\"\"\n",
    "    Translate text to Chinese using Baidu API.\n",
    "    \"\"\"\n",
    "    endpoint = 'http://api.fanyi.baidu.com/api/trans/vip/translate'\n",
    "    salt = random.randint(32768, 65536)\n",
    "    sign = make_md5(app_id + text + str(salt) + secret_key)\n",
    "    params = {\n",
    "        'q': text,\n",
    "        'from': 'en',\n",
    "        'to': 'zh',\n",
    "        'appid': app_id,\n",
    "        'salt': salt,\n",
    "        'sign': sign\n",
    "    }\n",
    "    headers = {'Content-Type': 'application/x-www-form-urlencoded'}\n",
    "    response = requests.post(endpoint, params=params, headers=headers)\n",
    "    return response.json()['trans_result'][0]['dst']\n",
    "\n",
    "def scrape_abstracts(url):\n",
    "    \"\"\"\n",
    "    Scrape the abstracts from the given URL.\n",
    "    \"\"\"\n",
    "    response = requests.get(url)\n",
    "    soup = BeautifulSoup(response.text, 'html.parser')\n",
    "    paper_links = [a['href'] for a in soup.select('dt.ptitle a')][:20]\n",
    "    base_url = \"https://openaccess.thecvf.com\"\n",
    "    abstracts = []\n",
    "    \n",
    "    for link in paper_links:\n",
    "        full_link = base_url + link\n",
    "        paper_page = requests.get(full_link)\n",
    "        paper_soup = BeautifulSoup(paper_page.text, 'html.parser')\n",
    "        abstract = paper_soup.find('div', id='abstract').text.strip()\n",
    "        abstracts.append(abstract)\n",
    "\n",
    "    return abstracts\n",
    "\n",
    "# Scrape abstracts\n",
    "abstracts = scrape_abstracts(\"https://openaccess.thecvf.com/ICCV2021?day=2021-10-12\")\n",
    "\n",
    "# Translate and write to file\n",
    "with open('my_abstract.txt', 'w', encoding='utf-8') as file:\n",
    "    for abstract in abstracts:\n",
    "        translated_abstract = translate_to_chinese(abstract, APP_ID, SECRET_KEY)\n",
    "        file.write(translated_abstract + \"\\n\\n\")\n",
    "\n",
    "print(\"Abstracts translated and saved to my_abstract.txt\")\n"
   ]
  },
  {
   "cell_type": "code",
   "execution_count": 15,
   "id": "d4a90526",
   "metadata": {},
   "outputs": [
    {
     "ename": "KeyError",
     "evalue": "'trans_result'",
     "output_type": "error",
     "traceback": [
      "\u001b[0;31m---------------------------------------------------------------------------\u001b[0m",
      "\u001b[0;31mKeyError\u001b[0m                                  Traceback (most recent call last)",
      "\u001b[0;32m/var/folders/nh/t1vs5qq91vggxycxpztk3lsh0000gn/T/ipykernel_49290/314641160.py\u001b[0m in \u001b[0;36m<module>\u001b[0;34m\u001b[0m\n\u001b[1;32m     52\u001b[0m \u001b[0;32mwith\u001b[0m \u001b[0mopen\u001b[0m\u001b[0;34m(\u001b[0m\u001b[0;34m'my_abstract.txt'\u001b[0m\u001b[0;34m,\u001b[0m \u001b[0;34m'w'\u001b[0m\u001b[0;34m,\u001b[0m \u001b[0mencoding\u001b[0m\u001b[0;34m=\u001b[0m\u001b[0;34m'utf-8'\u001b[0m\u001b[0;34m)\u001b[0m \u001b[0;32mas\u001b[0m \u001b[0mfile\u001b[0m\u001b[0;34m:\u001b[0m\u001b[0;34m\u001b[0m\u001b[0;34m\u001b[0m\u001b[0m\n\u001b[1;32m     53\u001b[0m     \u001b[0;32mfor\u001b[0m \u001b[0mabstract\u001b[0m \u001b[0;32min\u001b[0m \u001b[0mabstracts\u001b[0m\u001b[0;34m:\u001b[0m\u001b[0;34m\u001b[0m\u001b[0;34m\u001b[0m\u001b[0m\n\u001b[0;32m---> 54\u001b[0;31m         \u001b[0mtranslated_abstract\u001b[0m \u001b[0;34m=\u001b[0m \u001b[0mtranslate_to_chinese\u001b[0m\u001b[0;34m(\u001b[0m\u001b[0mabstract\u001b[0m\u001b[0;34m,\u001b[0m \u001b[0mAPP_ID\u001b[0m\u001b[0;34m,\u001b[0m \u001b[0mSECRET_KEY\u001b[0m\u001b[0;34m)\u001b[0m\u001b[0;34m\u001b[0m\u001b[0;34m\u001b[0m\u001b[0m\n\u001b[0m\u001b[1;32m     55\u001b[0m         \u001b[0mfile\u001b[0m\u001b[0;34m.\u001b[0m\u001b[0mwrite\u001b[0m\u001b[0;34m(\u001b[0m\u001b[0mtranslated_abstract\u001b[0m \u001b[0;34m+\u001b[0m \u001b[0;34m\"\\n\\n\"\u001b[0m\u001b[0;34m)\u001b[0m\u001b[0;34m\u001b[0m\u001b[0;34m\u001b[0m\u001b[0m\n\u001b[1;32m     56\u001b[0m \u001b[0;34m\u001b[0m\u001b[0m\n",
      "\u001b[0;32m/var/folders/nh/t1vs5qq91vggxycxpztk3lsh0000gn/T/ipykernel_49290/314641160.py\u001b[0m in \u001b[0;36mtranslate_to_chinese\u001b[0;34m(text, app_id, secret_key)\u001b[0m\n\u001b[1;32m     25\u001b[0m     }\n\u001b[1;32m     26\u001b[0m     \u001b[0mresponse\u001b[0m \u001b[0;34m=\u001b[0m \u001b[0mrequests\u001b[0m\u001b[0;34m.\u001b[0m\u001b[0mget\u001b[0m\u001b[0;34m(\u001b[0m\u001b[0mendpoint\u001b[0m\u001b[0;34m,\u001b[0m \u001b[0mparams\u001b[0m\u001b[0;34m=\u001b[0m\u001b[0mparams\u001b[0m\u001b[0;34m)\u001b[0m\u001b[0;34m\u001b[0m\u001b[0;34m\u001b[0m\u001b[0m\n\u001b[0;32m---> 27\u001b[0;31m     \u001b[0;32mreturn\u001b[0m \u001b[0mjson\u001b[0m\u001b[0;34m.\u001b[0m\u001b[0mloads\u001b[0m\u001b[0;34m(\u001b[0m\u001b[0mresponse\u001b[0m\u001b[0;34m.\u001b[0m\u001b[0mcontent\u001b[0m\u001b[0;34m)\u001b[0m\u001b[0;34m[\u001b[0m\u001b[0;34m'trans_result'\u001b[0m\u001b[0;34m]\u001b[0m\u001b[0;34m[\u001b[0m\u001b[0;36m0\u001b[0m\u001b[0;34m]\u001b[0m\u001b[0;34m[\u001b[0m\u001b[0;34m'dst'\u001b[0m\u001b[0;34m]\u001b[0m\u001b[0;34m\u001b[0m\u001b[0;34m\u001b[0m\u001b[0m\n\u001b[0m\u001b[1;32m     28\u001b[0m \u001b[0;34m\u001b[0m\u001b[0m\n\u001b[1;32m     29\u001b[0m \u001b[0;32mdef\u001b[0m \u001b[0mscrape_abstracts\u001b[0m\u001b[0;34m(\u001b[0m\u001b[0murl\u001b[0m\u001b[0;34m)\u001b[0m\u001b[0;34m:\u001b[0m\u001b[0;34m\u001b[0m\u001b[0;34m\u001b[0m\u001b[0m\n",
      "\u001b[0;31mKeyError\u001b[0m: 'trans_result'"
     ]
    }
   ],
   "source": [
    "import requests\n",
    "from bs4 import BeautifulSoup\n",
    "import json\n",
    "import hashlib\n",
    "import random\n",
    "\n",
    "# Baidu Translation API\n",
    "APP_ID = 'FelicityLam11' \n",
    "SECRET_KEY = 'Linbeibei123!'\n",
    "\n",
    "def translate_to_chinese(text, app_id, secret_key):\n",
    "    \"\"\"\n",
    "    Translate text to Chinese using Baidu API.\n",
    "    \"\"\"\n",
    "    endpoint = 'http://api.fanyi.baidu.com/api/trans/vip/translate'\n",
    "    salt = random.randint(32768, 65536)\n",
    "    sign = hashlib.md5((app_id + text + str(salt) + secret_key).encode()).hexdigest()\n",
    "    params = {\n",
    "        'q': text,\n",
    "        'from': 'en',\n",
    "        'to': 'zh',\n",
    "        'appid': app_id,\n",
    "        'salt': salt,\n",
    "        'sign': sign\n",
    "    }\n",
    "    response = requests.get(endpoint, params=params)\n",
    "    return json.loads(response.content)['trans_result'][0]['dst']\n",
    "\n",
    "def scrape_abstracts(url):\n",
    "    \"\"\"\n",
    "    Scrape the abstracts from the given URL.\n",
    "    \"\"\"\n",
    "    response = requests.get(url)\n",
    "    soup = BeautifulSoup(response.text, 'html.parser')\n",
    "    paper_links = [a['href'] for a in soup.select('dt.ptitle a')][:20]\n",
    "    base_url = \"https://openaccess.thecvf.com\"\n",
    "    abstracts = []\n",
    "    \n",
    "    for link in paper_links:\n",
    "        full_link = base_url + link\n",
    "        paper_page = requests.get(full_link)\n",
    "        paper_soup = BeautifulSoup(paper_page.text, 'html.parser')\n",
    "        abstract = paper_soup.find('div', id='abstract').text.strip()\n",
    "        abstracts.append(abstract)\n",
    "\n",
    "    return abstracts\n",
    "\n",
    "# Scrape abstracts\n",
    "abstracts = scrape_abstracts(\"https://openaccess.thecvf.com/ICCV2021?day=2021-10-12\")\n",
    "\n",
    "# Translate and write to file\n",
    "with open('my_abstract.txt', 'w', encoding='utf-8') as file:\n",
    "    for abstract in abstracts:\n",
    "        translated_abstract = translate_to_chinese(abstract, APP_ID, SECRET_KEY)\n",
    "        file.write(translated_abstract + \"\\n\\n\")\n",
    "\n",
    "print(\"Abstracts translated and saved to my_abstract.txt\")\n"
   ]
  }
 ],
 "metadata": {
  "kernelspec": {
   "display_name": "Python 3 (ipykernel)",
   "language": "python",
   "name": "python3"
  },
  "language_info": {
   "codemirror_mode": {
    "name": "ipython",
    "version": 3
   },
   "file_extension": ".py",
   "mimetype": "text/x-python",
   "name": "python",
   "nbconvert_exporter": "python",
   "pygments_lexer": "ipython3",
   "version": "3.9.7"
  },
  "varInspector": {
   "cols": {
    "lenName": 16,
    "lenType": 16,
    "lenVar": 40
   },
   "kernels_config": {
    "python": {
     "delete_cmd_postfix": "",
     "delete_cmd_prefix": "del ",
     "library": "var_list.py",
     "varRefreshCmd": "print(var_dic_list())"
    },
    "r": {
     "delete_cmd_postfix": ") ",
     "delete_cmd_prefix": "rm(",
     "library": "var_list.r",
     "varRefreshCmd": "cat(var_dic_list()) "
    }
   },
   "types_to_exclude": [
    "module",
    "function",
    "builtin_function_or_method",
    "instance",
    "_Feature"
   ],
   "window_display": false
  }
 },
 "nbformat": 4,
 "nbformat_minor": 5
}
