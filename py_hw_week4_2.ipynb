{
 "cells": [
  {
   "cell_type": "code",
   "execution_count": 7,
   "id": "8c838971",
   "metadata": {},
   "outputs": [
    {
     "name": "stdout",
     "output_type": "stream",
     "text": [
      "Input: nums = [10, 9, 2, 5, 3, 7, 101, 18]\n",
      "Output: [1, 1, 1, 2, 2, 3, 4, 4]\n",
      "\n",
      "Input: nums = [0, 1, 0, 3, 2, 3]\n",
      "Output: [1, 2, 1, 3, 3, 4]\n"
     ]
    }
   ],
   "source": [
    "def longest_increasing_seq(arr):\n",
    "    n = len(arr)\n",
    "    dp = [1] * n\n",
    "    \n",
    "    for i in range(n):\n",
    "        for j in range(i):\n",
    "            if arr[i] > arr[j]:\n",
    "                dp[i] = max(dp[i], dp[j] + 1)\n",
    "    \n",
    "    return dp\n",
    "\n",
    "arr1 = [10, 9, 2, 5, 3, 7, 101, 18]\n",
    "print(f\"Input: nums = {arr1}\")\n",
    "print(f\"Output: {longest_increasing_seq(arr1)}\")\n",
    "print(\"\")\n",
    "\n",
    "arr2 = [0, 1, 0, 3, 2, 3]\n",
    "print(f\"Input: nums = {arr2}\")\n",
    "print(f\"Output: {longest_increasing_seq(arr2)}\")"
   ]
  }
 ],
 "metadata": {
  "kernelspec": {
   "display_name": "Python 3 (ipykernel)",
   "language": "python",
   "name": "python3"
  },
  "language_info": {
   "codemirror_mode": {
    "name": "ipython",
    "version": 3
   },
   "file_extension": ".py",
   "mimetype": "text/x-python",
   "name": "python",
   "nbconvert_exporter": "python",
   "pygments_lexer": "ipython3",
   "version": "3.9.7"
  },
  "varInspector": {
   "cols": {
    "lenName": 16,
    "lenType": 16,
    "lenVar": 40
   },
   "kernels_config": {
    "python": {
     "delete_cmd_postfix": "",
     "delete_cmd_prefix": "del ",
     "library": "var_list.py",
     "varRefreshCmd": "print(var_dic_list())"
    },
    "r": {
     "delete_cmd_postfix": ") ",
     "delete_cmd_prefix": "rm(",
     "library": "var_list.r",
     "varRefreshCmd": "cat(var_dic_list()) "
    }
   },
   "types_to_exclude": [
    "module",
    "function",
    "builtin_function_or_method",
    "instance",
    "_Feature"
   ],
   "window_display": false
  }
 },
 "nbformat": 4,
 "nbformat_minor": 5
}
