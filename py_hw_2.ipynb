{
 "cells": [
  {
   "cell_type": "code",
   "execution_count": 3,
   "id": "1c301226",
   "metadata": {},
   "outputs": [
    {
     "name": "stdout",
     "output_type": "stream",
     "text": [
      "sqrt(0) = 0\n",
      "sqrt(1) = 1\n",
      "sqrt(2) = 1\n",
      "sqrt(3) = 1\n",
      "sqrt(4) = 2\n",
      "sqrt(5) = 2\n",
      "sqrt(6) = 2\n",
      "sqrt(7) = 2\n",
      "sqrt(8) = 2\n",
      "sqrt(9) = 3\n",
      "sqrt(10) = 3\n",
      "sqrt(11) = 3\n",
      "sqrt(12) = 3\n",
      "sqrt(13) = 3\n",
      "sqrt(14) = 3\n",
      "sqrt(15) = 3\n",
      "sqrt(16) = 4\n"
     ]
    }
   ],
   "source": [
    "def MySqrt(x):\n",
    "    \n",
    "    if x < 2: return x\n",
    "    \n",
    "    # binary search to find the square root\n",
    "    left, right = 2, x // 2\n",
    "    while left <= right:\n",
    "        mid = left + (right - left) // 2\n",
    "        squared = mid * mid\n",
    "        if squared == x:\n",
    "            return mid\n",
    "        elif squared < x:\n",
    "            left = mid + 1\n",
    "        else:\n",
    "            right = mid - 1\n",
    "    \n",
    "    return right\n",
    "\n",
    "\n",
    "# Test\n",
    "for i in range(17):\n",
    "    print(f\"sqrt({i}) = {MySqrt(i)}\")"
   ]
  }
 ],
 "metadata": {
  "kernelspec": {
   "display_name": "Python 3 (ipykernel)",
   "language": "python",
   "name": "python3"
  },
  "language_info": {
   "codemirror_mode": {
    "name": "ipython",
    "version": 3
   },
   "file_extension": ".py",
   "mimetype": "text/x-python",
   "name": "python",
   "nbconvert_exporter": "python",
   "pygments_lexer": "ipython3",
   "version": "3.9.7"
  },
  "varInspector": {
   "cols": {
    "lenName": 16,
    "lenType": 16,
    "lenVar": 40
   },
   "kernels_config": {
    "python": {
     "delete_cmd_postfix": "",
     "delete_cmd_prefix": "del ",
     "library": "var_list.py",
     "varRefreshCmd": "print(var_dic_list())"
    },
    "r": {
     "delete_cmd_postfix": ") ",
     "delete_cmd_prefix": "rm(",
     "library": "var_list.r",
     "varRefreshCmd": "cat(var_dic_list()) "
    }
   },
   "types_to_exclude": [
    "module",
    "function",
    "builtin_function_or_method",
    "instance",
    "_Feature"
   ],
   "window_display": false
  }
 },
 "nbformat": 4,
 "nbformat_minor": 5
}
